{
 "cells": [
  {
   "cell_type": "code",
   "execution_count": 1,
   "id": "60909415-c97e-488f-82c0-23f6c0eed1b1",
   "metadata": {},
   "outputs": [
    {
     "data": {
      "text/plain": [
       "0.9746318461970762"
      ]
     },
     "execution_count": 1,
     "metadata": {},
     "output_type": "execute_result"
    }
   ],
   "source": [
    "import numpy as np\n",
    "\n",
    "a=np.array([1,2,3])\n",
    "b=np.array([4,5,6])\n",
    "\n",
    "dotpro=np.dot(a,b)\n",
    "\n",
    "mag1=np.linalg.norm(a)\n",
    "mag2=np.linalg.norm(b)\n",
    "\n",
    "cosineim = dotpro/(mag1*mag2)\n",
    "cosineim"
   ]
  },
  {
   "cell_type": "code",
   "execution_count": null,
   "id": "af3b2b43-6c3f-48c2-985b-94a2d4ad55ac",
   "metadata": {},
   "outputs": [],
   "source": []
  }
 ],
 "metadata": {
  "kernelspec": {
   "display_name": "Python 3 (ipykernel)",
   "language": "python",
   "name": "python3"
  },
  "language_info": {
   "codemirror_mode": {
    "name": "ipython",
    "version": 3
   },
   "file_extension": ".py",
   "mimetype": "text/x-python",
   "name": "python",
   "nbconvert_exporter": "python",
   "pygments_lexer": "ipython3",
   "version": "3.11.7"
  }
 },
 "nbformat": 4,
 "nbformat_minor": 5
}
