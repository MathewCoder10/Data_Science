{
 "cells": [
  {
   "cell_type": "code",
   "execution_count": 19,
   "id": "84ca738f-6665-4992-8a2c-95c6309ccec2",
   "metadata": {},
   "outputs": [
    {
     "data": {
      "image/png": "[encoded data removed]",
      "text/plain": [
       "<Figure size 640x480 with 1 Axes>"
      ]
     },
     "metadata": {},
     "output_type": "display_data"
    }
   ],
   "source": [
    "import numpy as np\n",
    "import matplotlib.pyplot as plt\n",
    "\n",
    "val = np.array([1, 2])\n",
    "origin = [0], [0]\n",
    "\n",
    "plt.quiver(*origin, val[0], val[1], angles='xy', scale_units='xy', scale=1, color='red')\n",
    "plt.xlim(-4, 4)\n",
    "plt.ylim(-4, 4)\n",
    "plt.show()"
   ]
  },
  {
   "cell_type": "code",
   "execution_count": 23,
   "id": "b71ac08e-9902-4cb3-8e7e-b260642b38df",
   "metadata": {},
   "outputs": [
    {
     "name": "stdout",
     "output_type": "stream",
     "text": [
      "MATRIX:- [[1 2 3]\n",
      " [4 5 6]\n",
      " [7 8 9]]\n",
      "32\n"
     ]
    },
    {
     "data": {
      "text/plain": [
       "array([[-0.23197069, -0.78583024,  0.40824829],\n",
       "       [-0.52532209, -0.08675134, -0.81649658],\n",
       "       [-0.8186735 ,  0.61232756,  0.40824829]])"
      ]
     },
     "execution_count": 23,
     "metadata": {},
     "output_type": "execute_result"
    }
   ],
   "source": [
    "matrix=np.array([[1,2,3],[4,5,6],[7,8,9]])\n",
    "print('MATRIX:-',matrix)\n",
    "\n",
    "res=matrix.T\n",
    "res\n",
    "inverse=np.linalg.inv(matrix)\n",
    "inverse\n",
    "det=np.linalg.det(matrix)\n",
    "det\n",
    "tra=np.trace(matrix)\n",
    "tra\n",
    "\n",
    "vector1=np.array([1,2,3])\n",
    "vector2=np.array([4,5,6])\n",
    "dotpro=np.dot(vector1,vector2)\n",
    "print(dotpro)\n",
    "\n",
    "eigvalues,eigvector = np.linalg.eig(matrix)\n",
    "eigvalues\n",
    "eigvector\n",
    "\n"
   ]
  },
  {
   "cell_type": "code",
   "execution_count": 31,
   "id": "d9525bae-e343-4018-a9dc-3c5a7924a9ac",
   "metadata": {},
   "outputs": [
    {
     "data": {
      "text/plain": [
       "ModeResult(mode=1, count=2)"
      ]
     },
     "execution_count": 31,
     "metadata": {},
     "output_type": "execute_result"
    }
   ],
   "source": [
    "from scipy.stats import mode\n",
    "val=np.array([1,2,4,5,7,1,8])\n",
    "np.mean(val)\n",
    "np.median(val)\n",
    "mode(val)"
   ]
  },
  {
   "cell_type": "code",
   "execution_count": 33,
   "id": "b8927a42-e2c8-46b3-9801-c0d887bf3c7b",
   "metadata": {},
   "outputs": [
    {
     "data": {
      "text/plain": [
       "<_io.TextIOWrapper name='sample.csv' mode='x' encoding='cp1252'>"
      ]
     },
     "execution_count": 33,
     "metadata": {},
     "output_type": "execute_result"
    }
   ],
   "source": [
    "open(\"sample.csv\",'x')"
   ]
  },
  {
   "cell_type": "code",
   "execution_count": null,
   "id": "1d208ef1-e70e-4c4e-9eac-f7f3ee0de0f0",
   "metadata": {},
   "outputs": [],
   "source": []
  }
 ],
 "metadata": {
  "kernelspec": {
   "display_name": "Python 3 (ipykernel)",
   "language": "python",
   "name": "python3"
  },
  "language_info": {
   "codemirror_mode": {
    "name": "ipython",
    "version": 3
   },
   "file_extension": ".py",
   "mimetype": "text/x-python",
   "name": "python",
   "nbconvert_exporter": "python",
   "pygments_lexer": "ipython3",
   "version": "3.11.7"
  }
 },
 "nbformat": 4,
 "nbformat_minor": 5
}
