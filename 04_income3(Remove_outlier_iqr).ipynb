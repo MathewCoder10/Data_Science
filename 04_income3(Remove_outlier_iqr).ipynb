{
 "cells": [
  {
   "cell_type": "code",
   "execution_count": 4,
   "id": "653d3b5a-424f-4361-ab61-8ec1465b2483",
   "metadata": {},
   "outputs": [
    {
     "data": {
      "text/html": [
       "<div>\n",
       "<style scoped>\n",
       "    .dataframe tbody tr th:only-of-type {\n",
       "        vertical-align: middle;\n",
       "    }\n",
       "\n",
       "    .dataframe tbody tr th {\n",
       "        vertical-align: top;\n",
       "    }\n",
       "\n",
       "    .dataframe thead th {\n",
       "        text-align: right;\n",
       "    }\n",
       "</style>\n",
       "<table border=\"1\" class=\"dataframe\">\n",
       "  <thead>\n",
       "    <tr style=\"text-align: right;\">\n",
       "      <th></th>\n",
       "      <th>name</th>\n",
       "      <th>income</th>\n",
       "    </tr>\n",
       "  </thead>\n",
       "  <tbody>\n",
       "    <tr>\n",
       "      <th>0</th>\n",
       "      <td>a</td>\n",
       "      <td>100000</td>\n",
       "    </tr>\n",
       "    <tr>\n",
       "      <th>1</th>\n",
       "      <td>b</td>\n",
       "      <td>85000</td>\n",
       "    </tr>\n",
       "    <tr>\n",
       "      <th>2</th>\n",
       "      <td>c</td>\n",
       "      <td>90000</td>\n",
       "    </tr>\n",
       "    <tr>\n",
       "      <th>3</th>\n",
       "      <td>d</td>\n",
       "      <td>75000</td>\n",
       "    </tr>\n",
       "    <tr>\n",
       "      <th>4</th>\n",
       "      <td>e</td>\n",
       "      <td>80000</td>\n",
       "    </tr>\n",
       "    <tr>\n",
       "      <th>5</th>\n",
       "      <td>f</td>\n",
       "      <td>1000000</td>\n",
       "    </tr>\n",
       "  </tbody>\n",
       "</table>\n",
       "</div>"
      ],
      "text/plain": [
       "  name   income\n",
       "0    a   100000\n",
       "1    b    85000\n",
       "2    c    90000\n",
       "3    d    75000\n",
       "4    e    80000\n",
       "5    f  1000000"
      ]
     },
     "execution_count": 4,
     "metadata": {},
     "output_type": "execute_result"
    }
   ],
   "source": [
    "import pandas as pd\n",
    "\n",
    "data = {\n",
    "    'name': ['a', 'b', 'c', 'd', 'e', 'f'],\n",
    "    'income': [100000, 85000, 90000, 75000, 80000, 1000000]\n",
    "}\n",
    "# Create DataFrame\n",
    "df = pd.DataFrame(data)\n",
    "df"
   ]
  },
  {
   "cell_type": "code",
   "execution_count": 6,
   "id": "100545c6-2c3b-4a58-9f4a-6b63ed640ca8",
   "metadata": {},
   "outputs": [
    {
     "data": {
      "text/plain": [
       "count          6.000000\n",
       "mean      238333.333333\n",
       "std       373238.083087\n",
       "min        75000.000000\n",
       "25%        81250.000000\n",
       "50%        87500.000000\n",
       "75%        97500.000000\n",
       "max      1000000.000000\n",
       "Name: income, dtype: float64"
      ]
     },
     "execution_count": 6,
     "metadata": {},
     "output_type": "execute_result"
    }
   ],
   "source": [
    "df.income.describe()"
   ]
  },
  {
   "cell_type": "code",
   "execution_count": 8,
   "id": "1e312eef-14e9-4d82-996f-93be861932e5",
   "metadata": {},
   "outputs": [
    {
     "data": {
      "text/plain": [
       "75000.0"
      ]
     },
     "execution_count": 8,
     "metadata": {},
     "output_type": "execute_result"
    }
   ],
   "source": [
    "df.income.quantile(0)"
   ]
  },
  {
   "cell_type": "code",
   "execution_count": 10,
   "id": "c866f363-ff3e-4510-a763-7fa2ca60f74c",
   "metadata": {},
   "outputs": [
    {
     "data": {
      "text/plain": [
       "81250.0"
      ]
     },
     "execution_count": 10,
     "metadata": {},
     "output_type": "execute_result"
    }
   ],
   "source": [
    "df.income.quantile(0.25)"
   ]
  },
  {
   "cell_type": "code",
   "execution_count": 12,
   "id": "de4d746f-d40f-45ee-9ef9-7b43f3fd1eba",
   "metadata": {},
   "outputs": [
    {
     "data": {
      "text/plain": [
       "85000"
      ]
     },
     "execution_count": 12,
     "metadata": {},
     "output_type": "execute_result"
    }
   ],
   "source": [
    "df.income.quantile(0.25,interpolation='higher')"
   ]
  },
  {
   "cell_type": "code",
   "execution_count": 14,
   "id": "746599d1-093d-4765-a5de-e9dbf699a680",
   "metadata": {},
   "outputs": [
    {
     "data": {
      "text/plain": [
       "80000"
      ]
     },
     "execution_count": 14,
     "metadata": {},
     "output_type": "execute_result"
    }
   ],
   "source": [
    "df.income.quantile(0.25,interpolation='lower')"
   ]
  },
  {
   "cell_type": "code",
   "execution_count": 16,
   "id": "2ac4f008-4add-4922-b67c-e5a817ad5e1b",
   "metadata": {},
   "outputs": [],
   "source": [
    "outlier=df.income.quantile(0.99,interpolation='higher')"
   ]
  },
  {
   "cell_type": "code",
   "execution_count": null,
   "id": "2aed45cf-fde5-47f6-a695-3dc6222b50de",
   "metadata": {},
   "outputs": [],
   "source": [
    "# 100000 is the outlier. Now we are going to remove the outlier"
   ]
  },
  {
   "cell_type": "code",
   "execution_count": 18,
   "id": "1548804c-845f-42ea-89bf-49173bf90e03",
   "metadata": {},
   "outputs": [
    {
     "data": {
      "text/html": [
       "<div>\n",
       "<style scoped>\n",
       "    .dataframe tbody tr th:only-of-type {\n",
       "        vertical-align: middle;\n",
       "    }\n",
       "\n",
       "    .dataframe tbody tr th {\n",
       "        vertical-align: top;\n",
       "    }\n",
       "\n",
       "    .dataframe thead th {\n",
       "        text-align: right;\n",
       "    }\n",
       "</style>\n",
       "<table border=\"1\" class=\"dataframe\">\n",
       "  <thead>\n",
       "    <tr style=\"text-align: right;\">\n",
       "      <th></th>\n",
       "      <th>name</th>\n",
       "      <th>income</th>\n",
       "    </tr>\n",
       "  </thead>\n",
       "  <tbody>\n",
       "    <tr>\n",
       "      <th>0</th>\n",
       "      <td>a</td>\n",
       "      <td>100000</td>\n",
       "    </tr>\n",
       "    <tr>\n",
       "      <th>1</th>\n",
       "      <td>b</td>\n",
       "      <td>85000</td>\n",
       "    </tr>\n",
       "    <tr>\n",
       "      <th>2</th>\n",
       "      <td>c</td>\n",
       "      <td>90000</td>\n",
       "    </tr>\n",
       "    <tr>\n",
       "      <th>3</th>\n",
       "      <td>d</td>\n",
       "      <td>75000</td>\n",
       "    </tr>\n",
       "    <tr>\n",
       "      <th>4</th>\n",
       "      <td>e</td>\n",
       "      <td>80000</td>\n",
       "    </tr>\n",
       "  </tbody>\n",
       "</table>\n",
       "</div>"
      ],
      "text/plain": [
       "  name  income\n",
       "0    a  100000\n",
       "1    b   85000\n",
       "2    c   90000\n",
       "3    d   75000\n",
       "4    e   80000"
      ]
     },
     "execution_count": 18,
     "metadata": {},
     "output_type": "execute_result"
    }
   ],
   "source": [
    "df[df.income<outlier]"
   ]
  },
  {
   "cell_type": "code",
   "execution_count": 38,
   "id": "3d91916b-f8cc-43de-92fb-b07db4284748",
   "metadata": {},
   "outputs": [
    {
     "name": "stdout",
     "output_type": "stream",
     "text": [
      "81250.0\n",
      "87500.0\n",
      "97500.0\n",
      "16250.0\n",
      "Original DataFrame:\n",
      "  name   income\n",
      "0    a   100000\n",
      "1    b    85000\n",
      "2    c    90000\n",
      "3    d    75000\n",
      "4    e    80000\n",
      "5    f  1000000\n",
      "\n",
      "Outliers:\n",
      "  name   income\n",
      "5    f  1000000\n",
      "\n",
      "DataFrame after removing outliers:\n",
      "  name  income\n",
      "0    a  100000\n",
      "1    b   85000\n",
      "2    c   90000\n",
      "3    d   75000\n",
      "4    e   80000\n"
     ]
    }
   ],
   "source": [
    "import pandas as pd\n",
    "\n",
    "# Create the DataFrame\n",
    "data = {\n",
    "    'name': ['a', 'b', 'c', 'd', 'e', 'f'],\n",
    "    'income': [100000, 85000, 90000, 75000, 80000, 1000000]\n",
    "}\n",
    "df = pd.DataFrame(data)\n",
    "\n",
    "# Calculate quartiles\n",
    "Q1 = df['income'].quantile(0.25)\n",
    "Q2 = df['income'].quantile(0.50)\n",
    "Q3 = df['income'].quantile(0.75)\n",
    "print(Q1)\n",
    "print(Q2)\n",
    "print(Q3)\n",
    "# Calculate IQR\n",
    "IQR = Q3 - Q1\n",
    "print(IQR)\n",
    "# Calculate bounds\n",
    "lower_bound = Q1 - 1.5 * IQR\n",
    "upper_bound = Q3 + 1.5 * IQR\n",
    "\n",
    "# Identify outliers\n",
    "outliers = df[(df['income'] < lower_bound) | (df['income'] > upper_bound)]\n",
    "\n",
    "# Remove outliers from the DataFrame\n",
    "clean_df = df[(df['income'] >= lower_bound) & (df['income'] <= upper_bound)]\n",
    "\n",
    "print(\"Original DataFrame:\")\n",
    "print(df)\n",
    "print(\"\\nOutliers:\")\n",
    "print(outliers)\n",
    "print(\"\\nDataFrame after removing outliers:\")\n",
    "print(clean_df)\n"
   ]
  },
  {
   "cell_type": "code",
   "execution_count": null,
   "id": "f7377183-2e77-4033-bb0f-48ad713a3e87",
   "metadata": {},
   "outputs": [],
   "source": []
  }
 ],
 "metadata": {
  "kernelspec": {
   "display_name": "Python 3 (ipykernel)",
   "language": "python",
   "name": "python3"
  },
  "language_info": {
   "codemirror_mode": {
    "name": "ipython",
    "version": 3
   },
   "file_extension": ".py",
   "mimetype": "text/x-python",
   "name": "python",
   "nbconvert_exporter": "python",
   "pygments_lexer": "ipython3",
   "version": "3.11.7"
  }
 },
 "nbformat": 4,
 "nbformat_minor": 5
}
