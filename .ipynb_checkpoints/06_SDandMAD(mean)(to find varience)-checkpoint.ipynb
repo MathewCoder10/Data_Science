{
 "cells": [
  {
   "cell_type": "code",
   "execution_count": 61,
   "id": "dc104a5b-8c85-4561-9b58-83c7f28b2667",
   "metadata": {},
   "outputs": [
    {
     "name": "stdout",
     "output_type": "stream",
     "text": [
      "  name  score\n",
      "0    a     75\n",
      "1    b     72\n",
      "2    c     68\n",
      "3    d     65\n",
      "4    e     67\n",
      "5    f     75\n",
      "avg: 70.33333333333333\n"
     ]
    }
   ],
   "source": [
    "import pandas as pd\n",
    "\n",
    "data1 = {\n",
    "    'name': ['a', 'b', 'c', 'd', 'e','f'],\n",
    "    'score': [75,72,68,65,67,75] #less deviation\n",
    "}\n",
    "data2 = {\n",
    "    'name': ['a', 'b', 'c', 'd', 'e','f'],\n",
    "    'score': [93,96,43,47,51, 90] #high deviation\n",
    "}\n",
    "# Create DataFrame\n",
    "df1 = pd.DataFrame(data1)\n",
    "df2 = pd.DataFrame(data2)\n",
    "print(df1)\n",
    "avg1=df1['score'].mean()\n",
    "print(\"avg:\",avg1)"
   ]
  },
  {
   "cell_type": "code",
   "execution_count": 65,
   "id": "b1157c49-32a5-4da9-9183-696701a2a2f7",
   "metadata": {},
   "outputs": [
    {
     "name": "stdout",
     "output_type": "stream",
     "text": [
      "  name  score\n",
      "0    a     93\n",
      "1    b     96\n",
      "2    c     43\n",
      "3    d     47\n",
      "4    e     51\n",
      "5    f     90\n",
      "avg: 70.0\n"
     ]
    }
   ],
   "source": [
    "print(df2)\n",
    "avg2=df2['score'].mean()\n",
    "print(\"avg:\",avg2)"
   ]
  },
  {
   "cell_type": "code",
   "execution_count": 77,
   "id": "a77dbab8-3fd3-4ac0-aeec-34e07d3ee64e",
   "metadata": {},
   "outputs": [
    {
     "name": "stdout",
     "output_type": "stream",
     "text": [
      "  name  score  score-avg\n",
      "0    a     75   4.666667\n",
      "1    b     72   1.666667\n",
      "2    c     68   2.333333\n",
      "3    d     65   5.333333\n",
      "4    e     67   3.333333\n",
      "5    f     75   4.666667\n",
      "3.6666666666666665\n"
     ]
    }
   ],
   "source": [
    "df1['score-avg']=abs(df1['score']-avg1)\n",
    "print(df1)\n",
    "MAD1=df1['score-avg'].mean()\n",
    "print(MAD1)"
   ]
  },
  {
   "cell_type": "code",
   "execution_count": 81,
   "id": "6d760be0-ebd9-47c1-8f8a-0fac1e961aa1",
   "metadata": {},
   "outputs": [
    {
     "name": "stdout",
     "output_type": "stream",
     "text": [
      "  name  score  score-avg\n",
      "0    a     93       23.0\n",
      "1    b     96       26.0\n",
      "2    c     43       27.0\n",
      "3    d     47       23.0\n",
      "4    e     51       19.0\n",
      "5    f     90       20.0\n",
      "23.0\n"
     ]
    }
   ],
   "source": [
    "df2['score-avg']=abs(df2['score']-avg2)\n",
    "print(df2)\n",
    "MAD2=df2['score-avg'].mean()\n",
    "print(MAD2)"
   ]
  },
  {
   "cell_type": "code",
   "execution_count": 97,
   "id": "9e007183-2107-406a-8a6d-6e12170ae214",
   "metadata": {},
   "outputs": [
    {
     "name": "stdout",
     "output_type": "stream",
     "text": [
      "  name  score\n",
      "0    a     75\n",
      "1    b     72\n",
      "2    c     68\n",
      "3    d     65\n",
      "4    e     67\n",
      "5    f     75\n",
      "  name  score\n",
      "0    a     83\n",
      "1    b     70\n",
      "2    c     70\n",
      "3    d     63\n",
      "4    e     70\n",
      "5    f     70\n",
      "  name  score  score-avg\n",
      "0    a     75   4.666667\n",
      "1    b     72   1.666667\n",
      "2    c     68   2.333333\n",
      "3    d     65   5.333333\n",
      "4    e     67   3.333333\n",
      "5    f     75   4.666667\n",
      "MAD1: 3.6666666666666665\n",
      "  name  score  score-avg        sqr\n",
      "0    a     75   4.666667  21.777778\n",
      "1    b     72   1.666667   2.777778\n",
      "2    c     68   2.333333   5.444444\n",
      "3    d     65   5.333333  28.444444\n",
      "4    e     67   3.333333  11.111111\n",
      "5    f     75   4.666667  21.777778\n",
      "SD1: 3.901566636906542\n",
      "  name  score  score-avg\n",
      "0    a     83       12.0\n",
      "1    b     70        1.0\n",
      "2    c     70        1.0\n",
      "3    d     63        8.0\n",
      "4    e     70        1.0\n",
      "5    f     70        1.0\n",
      "MAD2: 4.0\n",
      "  name  score  score-avg    sqr\n",
      "0    a     83       12.0  144.0\n",
      "1    b     70        1.0    1.0\n",
      "2    c     70        1.0    1.0\n",
      "3    d     63        8.0   64.0\n",
      "4    e     70        1.0    1.0\n",
      "5    f     70        1.0    1.0\n",
      "SD2: 5.94418483337567\n"
     ]
    }
   ],
   "source": [
    "#72clz\n",
    "import pandas as pd\n",
    "import numpy as np\n",
    "\n",
    "# Data with less deviation\n",
    "data1 = {\n",
    "    'name': ['a', 'b', 'c', 'd', 'e', 'f'],\n",
    "    'score': [75, 72, 68, 65, 67, 75]\n",
    "}\n",
    "\n",
    "# Data with higher deviation\n",
    "data2 = {\n",
    "    'name': ['a', 'b', 'c', 'd', 'e', 'f'],\n",
    "    'score': [83, 70, 70, 63, 70, 70]\n",
    "}\n",
    "\n",
    "# Create DataFrames\n",
    "df1 = pd.DataFrame(data1)\n",
    "df2 = pd.DataFrame(data2)\n",
    "\n",
    "# Print DataFrames\n",
    "print(df1)\n",
    "print(df2)\n",
    "\n",
    "# Calculate mean of scores\n",
    "avg1 = df1['score'].mean()\n",
    "avg2 = df2['score'].mean()\n",
    "\n",
    "# Add a new column for absolute deviation from the mean\n",
    "df1['score-avg'] = abs(df1['score'] - avg1)\n",
    "print(df1)\n",
    "\n",
    "# Calculate Mean Absolute Deviation (MAD)\n",
    "MAD1 = df1['score-avg'].mean()\n",
    "print('MAD1:', MAD1)\n",
    "\n",
    "# Add a new column for squared deviations\n",
    "df1['sqr'] = df1['score-avg']**2\n",
    "print(df1)\n",
    "\n",
    "# Calculate Standard Deviation (SD)\n",
    "sd1 = np.sqrt(df1['sqr'].mean())\n",
    "print('SD1:', sd1)\n",
    "\n",
    "# Repeat the same process for the second dataset\n",
    "df2['score-avg'] = abs(df2['score'] - avg2)\n",
    "print(df2)\n",
    "\n",
    "MAD2 = df2['score-avg'].mean()\n",
    "print('MAD2:', MAD2)\n",
    "\n",
    "df2['sqr'] = df2['score-avg']**2\n",
    "print(df2)\n",
    "\n",
    "sd2 = np.sqrt(df2['sqr'].mean())\n",
    "print('SD2:', sd2)\n"
   ]
  },
  {
   "cell_type": "code",
   "execution_count": null,
   "id": "1d3a9291-96cc-4885-b031-02150e6744d8",
   "metadata": {},
   "outputs": [],
   "source": []
  }
 ],
 "metadata": {
  "kernelspec": {
   "display_name": "Python 3 (ipykernel)",
   "language": "python",
   "name": "python3"
  },
  "language_info": {
   "codemirror_mode": {
    "name": "ipython",
    "version": 3
   },
   "file_extension": ".py",
   "mimetype": "text/x-python",
   "name": "python",
   "nbconvert_exporter": "python",
   "pygments_lexer": "ipython3",
   "version": "3.11.7"
  }
 },
 "nbformat": 4,
 "nbformat_minor": 5
}
